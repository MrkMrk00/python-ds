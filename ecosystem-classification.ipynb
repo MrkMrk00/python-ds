{
 "cells": [
  {
   "cell_type": "code",
   "execution_count": 2,
   "id": "63b2b99e-96c7-4f58-8052-3458e19a2d2e",
   "metadata": {},
   "outputs": [],
   "source": [
    "# !!! Results from train_and_predict and grid_search get outputted to a file !!!\n",
    "\n",
    "import pandas as pd \n",
    "import sklearn.model_selection\n",
    "from sklearn.model_selection import cross_val_score\n",
    "from sklearn.svm import SVC\n",
    "from sklearn.tree import DecisionTreeClassifier\n",
    "from sklearn.metrics import classification_report"
   ]
  },
  {
   "cell_type": "code",
   "execution_count": 3,
   "id": "3f77c833-b850-4c4e-81dc-e6ad880af53f",
   "metadata": {},
   "outputs": [],
   "source": [
    "# Load data\n",
    "df: pd.DataFrame = pd.read_pickle('data.pkl')"
   ]
  },
  {
   "cell_type": "code",
   "execution_count": 4,
   "id": "549a4de0-f021-41d8-878f-4ea9a1ff5ba0",
   "metadata": {},
   "outputs": [],
   "source": [
    "# Filter out only columns defined as important from .tsv file\n",
    "important_features = [ col.split(' ')[0] \n",
    "    for col \n",
    "    in pd.read_csv('important.tsv', sep='\\t').columns\n",
    "]\n",
    "df = df[['biome', *important_features[1:]]]"
   ]
  },
  {
   "cell_type": "code",
   "execution_count": 5,
   "id": "27f41444-22dd-417e-ac74-99fe0cd330b4",
   "metadata": {},
   "outputs": [],
   "source": [
    "# Replace all NA values with 0.0\n",
    "df.replace(pd.NA, 0.0, inplace=False)\n",
    "\n",
    "# Add a new derived column sum_all - sum of all numeric columns (feature values)\n",
    "df['sum_all'] = df.sum(axis=1, numeric_only=True)\n",
    "\n",
    "# Filter out rows with sum_all <= 0.0 - no feature was found in the sample\n",
    "df = df[df['sum_all'] > 0.0]"
   ]
  },
  {
   "cell_type": "code",
   "execution_count": 7,
   "id": "a9da09ce-4d13-4dff-b810-af01e81a9403",
   "metadata": {},
   "outputs": [],
   "source": [
    "# Divide data into train and test\n",
    "target = df['biome']\n",
    "features = df.drop(columns=['biome'])\n",
    "\n",
    "X_train: pd.DataFrame\n",
    "X_test: pd.DataFrame\n",
    "y_train: pd.DataFrame\n",
    "y_test: pd.DataFrame\n",
    "\n",
    "X_train, X_test, y_train, y_test = sklearn.model_selection.train_test_split(features, \n",
    "                                                             target,\n",
    "                                                             test_size=0.2,\n",
    "                                                             random_state=69420) # type: ignore"
   ]
  },
  {
   "cell_type": "code",
   "execution_count": 8,
   "id": "eef8b50d-e9cd-4d53-b342-270442057319",
   "metadata": {},
   "outputs": [],
   "source": [
    "# Utility class to wrap a classifier with\n",
    "# implements model fitting, prediction and evaluation in method `train_and_predict`\n",
    "# and GridSearchCV in method `grid_search`\n",
    "\n",
    "class Model:\n",
    "    def __init__(self, classifier, grid_search_params):\n",
    "        self._classifier = classifier\n",
    "        self._grid_search_params = grid_search_params\n",
    "\n",
    "    def train_and_predict(self, \n",
    "                          X_train: pd.DataFrame,\n",
    "                          X_test: pd.DataFrame,\n",
    "                          y_train: pd.DataFrame,\n",
    "                          y_test: pd.DataFrame):\n",
    "        \n",
    "        self._classifier.fit(X=X_train, y=y_train)\n",
    "        y_predict = self._classifier.predict(X=X_test)\n",
    "\n",
    "        file_name = self._get_name() + '-classification_report.txt'\n",
    "        with open(file_name, 'w') as f:\n",
    "            f.write(str(classification_report(y_test, y_predict)))\n",
    "\n",
    "    def _get_name(self) -> str:\n",
    "        return self._classifier.__class__.__name__.lower()\n",
    "\n",
    "    def grid_search(self, **kwargs):\n",
    "        print(f'Performing grid search on {self._get_name()}...')\n",
    "        grid_search = sklearn.model_selection.GridSearchCV(\n",
    "            self._classifier, \n",
    "            self._grid_search_params, \n",
    "            **kwargs,\n",
    "        )\n",
    "\n",
    "        grid_search.fit(X_train, y_train)\n",
    "        file_name = self._get_name() + '-grid_search.txt'\n",
    "\n",
    "        with open(file_name, 'w') as f:\n",
    "            f.write(str(grid_search.best_params_))\n",
    "\n"
   ]
  },
  {
   "cell_type": "code",
   "execution_count": 9,
   "id": "8646aac2-f845-4163-b4af-6405c240140f",
   "metadata": {},
   "outputs": [],
   "source": [
    "# Support Vector Machine classifier with grid search parameters\n",
    "svm = Model(SVC(), { \n",
    "    'C': [0.5, 1], \n",
    "    'kernel': ['rbf'],\n",
    "})"
   ]
  },
  {
   "cell_type": "code",
   "execution_count": null,
   "id": "64b17b77-126d-4aaf-861e-06d024a8374d",
   "metadata": {},
   "outputs": [],
   "source": [
    "# Fit, predict and evaluate using support vector machines\n",
    "# Note: this takes quite long (~5 minutes on a modern CPU)\n",
    "svm.train_and_predict(\n",
    "    X_train=X_train,\n",
    "    X_test=X_test,\n",
    "    y_train=y_train,\n",
    "    y_test=y_test\n",
    ")"
   ]
  },
  {
   "cell_type": "code",
   "execution_count": null,
   "id": "a0ba1b8e-8557-43f8-a20a-10d268144d99",
   "metadata": {},
   "outputs": [],
   "source": [
    "# This takes even longer, \n",
    "# wasn't even able to finish with the few grid search parameters defined\n",
    "# (when run on 8 out of 16 threads on R7 4800H, the CPU overheated after 6 minutes :))\n",
    "svm.grid_search(n_jobs=6)"
   ]
  },
  {
   "cell_type": "code",
   "execution_count": 10,
   "id": "d210249f-aa73-4ff4-b514-734420878e3f",
   "metadata": {},
   "outputs": [],
   "source": [
    "# A simpler - decision tree classifier with grid search parameters \n",
    "# From GridSearchCV: criterion='log_loss', splitter='best'\n",
    "tree = Model(DecisionTreeClassifier(criterion='log_loss', splitter='best'), {\n",
    "    'criterion': ['gini', 'entropy', 'log_loss'],\n",
    "    'splitter': ['best', 'random'],\n",
    "})"
   ]
  },
  {
   "cell_type": "code",
   "execution_count": null,
   "id": "69b9de4b-8971-450a-96ed-7d07a4d648fd",
   "metadata": {},
   "outputs": [],
   "source": [
    "# Grid search on the tree classifier\n",
    "tree.grid_search(n_jobs=6)"
   ]
  },
  {
   "cell_type": "code",
   "execution_count": 11,
   "id": "4ecf3a32-034a-49bb-b731-d1a91350cbe1",
   "metadata": {},
   "outputs": [],
   "source": [
    "# Fit, predict and evaluate the tree classifier\n",
    "tree.train_and_predict(\n",
    "    X_train=X_train,\n",
    "    X_test=X_test,\n",
    "    y_train=y_train,\n",
    "    y_test=y_test\n",
    ")"
   ]
  }
 ],
 "metadata": {
  "kernelspec": {
   "display_name": "Python 3 (ipykernel)",
   "language": "python",
   "name": "python3"
  },
  "language_info": {
   "codemirror_mode": {
    "name": "ipython",
    "version": 3
   },
   "file_extension": ".py",
   "mimetype": "text/x-python",
   "name": "python",
   "nbconvert_exporter": "python",
   "pygments_lexer": "ipython3",
   "version": "3.11.8"
  }
 },
 "nbformat": 4,
 "nbformat_minor": 5
}
